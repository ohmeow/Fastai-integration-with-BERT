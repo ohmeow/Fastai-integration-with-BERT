{
  "nbformat": 4,
  "nbformat_minor": 0,
  "metadata": {
    "colab": {
      "name": "Untitled5.ipynb",
      "provenance": [],
      "collapsed_sections": [],
      "authorship_tag": "ABX9TyMbyzP2YxXiQUwSCGCicrcW"
    },
    "kernelspec": {
      "name": "python3",
      "display_name": "Python 3"
    },
    "language_info": {
      "name": "python"
    },
    "accelerator": "GPU"
  },
  "cells": [
    {
      "cell_type": "markdown",
      "metadata": {
        "id": "rP9FunAg9yMM"
      },
      "source": [
        "# \"Multilingual Sequence Classifaction with the MBart Family\"\n",
        "> \"Need to do some multi-lingual sequence classification? Look no further, at least if you want to use MBart and/or the MBart-50 variety of models.  Working against the `amazon_reviews_multi` dataset I'll show you how to use the `blurr` library to configure the huggingface objects, build DataLoaders, and train a model that you can use for classifying German text.  I'll throw in a bit of the inference code so that you can see how easy `blurr` makes it to use your trained model to boot.  Let's go ...\n",
        "\n",
        "- toc: false\n",
        "- branch: master\n",
        "- badges: true\n",
        "- hide_binder_badge: true\n",
        "- comments: true\n",
        "- author: Wayde Gilliam\n",
        "- categories: [blurr, huggingface, fastai, multilingual, sequence classification]\n",
        "- hide: true\n",
        "- search_exclude: true\n",
        "- show_tags: false\n",
        "- permalink: temp-posts/mbart"
      ]
    },
    {
      "cell_type": "code",
      "metadata": {
        "id": "8dCNT-kYi7bC"
      },
      "source": [
        "!pip install ohmeow-blurr -q\n",
        "!pip install datasets -q"
      ],
      "execution_count": 1,
      "outputs": []
    },
    {
      "cell_type": "code",
      "metadata": {
        "id": "0aovWtmckwpz"
      },
      "source": [
        "from fastai.text.all import *\n",
        "from datasets import load_dataset\n",
        "from transformers import AutoModelForSequenceClassification\n",
        "\n",
        "from blurr.utils import BLURR\n",
        "from blurr.data.core import *\n",
        "from blurr.modeling.core import *"
      ],
      "execution_count": 2,
      "outputs": []
    },
    {
      "cell_type": "code",
      "metadata": {
        "colab": {
          "base_uri": "https://localhost:8080/"
        },
        "id": "2JkW4qZRsCET",
        "outputId": "14437300-e87b-4559-8d19-926456f5a625"
      },
      "source": [
        "from blurr import __version__ as blurr_version\n",
        "from fastai import __version__ as fa_version\n",
        "from torch import __version__ as pt_version\n",
        "from transformers import __version__ as hft_version\n",
        "\n",
        "print(f'Using blurr {blurr_version}')\n",
        "print(f'Using pytorch {pt_version}')\n",
        "print(f'Using fastai {fa_version}')\n",
        "print(f'Using transformers {hft_version}')"
      ],
      "execution_count": 3,
      "outputs": [
        {
          "output_type": "stream",
          "text": [
            "Using blurr 0.0.25\n",
            "Using pytorch 1.8.1+cu101\n",
            "Using fastai 2.3.1\n",
            "Using transformers 4.6.1\n"
          ],
          "name": "stdout"
        }
      ]
    },
    {
      "cell_type": "markdown",
      "metadata": {
        "id": "BcIDHH6Qry0-"
      },
      "source": [
        "## Data"
      ]
    },
    {
      "cell_type": "code",
      "metadata": {
        "colab": {
          "base_uri": "https://localhost:8080/"
        },
        "id": "nejkBrYEjIIp",
        "outputId": "639e039f-a318-486a-ebab-f226beba07e2"
      },
      "source": [
        "trn_ds, val_ds, tst_ds = load_dataset(\"amazon_reviews_multi\", \"de\", split=['train', 'validation', 'test'])"
      ],
      "execution_count": 4,
      "outputs": [
        {
          "output_type": "stream",
          "text": [
            "Reusing dataset amazon_reviews_multi (/root/.cache/huggingface/datasets/amazon_reviews_multi/de/1.0.0/724e94f4b0c6c405ce7e476a6c5ef4f87db30799ad49f765094cf9770e0f7609)\n"
          ],
          "name": "stderr"
        }
      ]
    },
    {
      "cell_type": "code",
      "metadata": {
        "id": "No0eIiz0Lfbe"
      },
      "source": [
        "trn_df = pd.DataFrame(trn_ds)\n",
        "val_df = pd.DataFrame(val_ds)\n",
        "tst_df = pd.DataFrame(tst_ds)"
      ],
      "execution_count": 5,
      "outputs": []
    },
    {
      "cell_type": "markdown",
      "metadata": {
        "id": "MQrImym6O3zO"
      },
      "source": [
        "> Important: Use a subset of the data when building your model to speed up developement time!\n",
        "\n",
        "\n",
        "After you got everything, throw the full dataset at it and go get some coffee :)"
      ]
    },
    {
      "cell_type": "code",
      "metadata": {
        "id": "6qJCGYb7NURe"
      },
      "source": [
        "# testing with a subset ... (comment out to train on full dataset!!!)\n",
        "\n",
        "# this won't work because the rows are ordered by our targets!\n",
        "# trn_ds, val_ds = load_dataset(\"amazon_reviews_multi\", \"de\", split=['train[:10%]', 'validation[:10%]'])\n",
        "\n",
        "trn_df = trn_df.sample(frac=0.05)\n",
        "val_df = val_df.sample(frac=0.05)"
      ],
      "execution_count": 6,
      "outputs": []
    },
    {
      "cell_type": "code",
      "metadata": {
        "colab": {
          "base_uri": "https://localhost:8080/"
        },
        "id": "-pPsRcfim5ZH",
        "outputId": "0bd73848-bdac-4805-a305-3fcdf03b2285"
      },
      "source": [
        "trn_df['is_valid'] = False; val_df['is_valid'] = True\n",
        "df = pd.concat([trn_df, val_df])\n",
        "\n",
        "print(len(trn_df), len(val_df), len(df))"
      ],
      "execution_count": 7,
      "outputs": [
        {
          "output_type": "stream",
          "text": [
            "200000 5000 205000\n"
          ],
          "name": "stdout"
        }
      ]
    },
    {
      "cell_type": "code",
      "metadata": {
        "colab": {
          "base_uri": "https://localhost:8080/",
          "height": 306
        },
        "id": "2S5DqsgOnKQa",
        "outputId": "18950739-24ea-493b-b609-915df0a9f5ce"
      },
      "source": [
        "trn_df.head()"
      ],
      "execution_count": 8,
      "outputs": [
        {
          "output_type": "execute_result",
          "data": {
            "text/html": [
              "<div>\n",
              "<style scoped>\n",
              "    .dataframe tbody tr th:only-of-type {\n",
              "        vertical-align: middle;\n",
              "    }\n",
              "\n",
              "    .dataframe tbody tr th {\n",
              "        vertical-align: top;\n",
              "    }\n",
              "\n",
              "    .dataframe thead th {\n",
              "        text-align: right;\n",
              "    }\n",
              "</style>\n",
              "<table border=\"1\" class=\"dataframe\">\n",
              "  <thead>\n",
              "    <tr style=\"text-align: right;\">\n",
              "      <th></th>\n",
              "      <th>language</th>\n",
              "      <th>product_category</th>\n",
              "      <th>product_id</th>\n",
              "      <th>review_body</th>\n",
              "      <th>review_id</th>\n",
              "      <th>review_title</th>\n",
              "      <th>reviewer_id</th>\n",
              "      <th>stars</th>\n",
              "      <th>is_valid</th>\n",
              "    </tr>\n",
              "  </thead>\n",
              "  <tbody>\n",
              "    <tr>\n",
              "      <th>0</th>\n",
              "      <td>de</td>\n",
              "      <td>sports</td>\n",
              "      <td>product_de_0865382</td>\n",
              "      <td>Armband ist leider nach 1 Jahr kaputt gegangen</td>\n",
              "      <td>de_0203609</td>\n",
              "      <td>Leider nach 1 Jahr kaputt</td>\n",
              "      <td>reviewer_de_0267719</td>\n",
              "      <td>1</td>\n",
              "      <td>False</td>\n",
              "    </tr>\n",
              "    <tr>\n",
              "      <th>1</th>\n",
              "      <td>de</td>\n",
              "      <td>home_improvement</td>\n",
              "      <td>product_de_0678997</td>\n",
              "      <td>In der Lieferung war nur Ein Akku!</td>\n",
              "      <td>de_0559494</td>\n",
              "      <td>EINS statt ZWEI Akkus!!!</td>\n",
              "      <td>reviewer_de_0783625</td>\n",
              "      <td>1</td>\n",
              "      <td>False</td>\n",
              "    </tr>\n",
              "    <tr>\n",
              "      <th>2</th>\n",
              "      <td>de</td>\n",
              "      <td>drugstore</td>\n",
              "      <td>product_de_0372235</td>\n",
              "      <td>Ein Stern, weil gar keine geht nicht. Es handelt sich um gebraucht Waren, die Stein haben so ein Belag drauf, wo man sich dabei denken kann, dass jemand schon die benutzt und nicht Mal richtig gewaschen. Bei ein paar ist die Qualität Mangelhaft, siehe Bild. Ein habe ich ausprobiert, richtig gewaschen, dann verfärbt sich..... Wärme halt nicht lange. Deswegen wird es zurückgeschickt.</td>\n",
              "      <td>de_0238777</td>\n",
              "      <td>Achtung Abzocke</td>\n",
              "      <td>reviewer_de_0911426</td>\n",
              "      <td>1</td>\n",
              "      <td>False</td>\n",
              "    </tr>\n",
              "    <tr>\n",
              "      <th>3</th>\n",
              "      <td>de</td>\n",
              "      <td>drugstore</td>\n",
              "      <td>product_de_0719501</td>\n",
              "      <td>Dachte, das wären einfach etwas festere Binden, vielleicht größere Always. Aber die Verpackung ist derartig riesig - wie als hätte man einen riesigen Karton Windeln gekauft... nicht das, was ich wollte ;-)</td>\n",
              "      <td>de_0477884</td>\n",
              "      <td>Zu viel des Guten</td>\n",
              "      <td>reviewer_de_0836478</td>\n",
              "      <td>1</td>\n",
              "      <td>False</td>\n",
              "    </tr>\n",
              "    <tr>\n",
              "      <th>4</th>\n",
              "      <td>de</td>\n",
              "      <td>toy</td>\n",
              "      <td>product_de_0022613</td>\n",
              "      <td>Meine Kinder haben kaum damit gespielt und nach 6 Monaten riss es an der Naht obwohl ich sehr leichte Kinder habe.</td>\n",
              "      <td>de_0270868</td>\n",
              "      <td>Qualität sehr schlecht</td>\n",
              "      <td>reviewer_de_0736276</td>\n",
              "      <td>1</td>\n",
              "      <td>False</td>\n",
              "    </tr>\n",
              "  </tbody>\n",
              "</table>\n",
              "</div>"
            ],
            "text/plain": [
              "  language  product_category  ... stars is_valid\n",
              "0       de            sports  ...     1    False\n",
              "1       de  home_improvement  ...     1    False\n",
              "2       de         drugstore  ...     1    False\n",
              "3       de         drugstore  ...     1    False\n",
              "4       de               toy  ...     1    False\n",
              "\n",
              "[5 rows x 9 columns]"
            ]
          },
          "metadata": {
            "tags": []
          },
          "execution_count": 8
        }
      ]
    },
    {
      "cell_type": "code",
      "metadata": {
        "colab": {
          "base_uri": "https://localhost:8080/"
        },
        "id": "tCJSTEG7nXJg",
        "outputId": "90c1d9cd-75de-4fc4-9838-9db3df0b5140"
      },
      "source": [
        "unique_tgt_vals = trn_df.stars.value_counts()\n",
        "print(unique_tgt_vals)\n",
        "\n",
        "labels = sorted(list(df.stars.unique()))\n",
        "print(labels)"
      ],
      "execution_count": 9,
      "outputs": [
        {
          "output_type": "stream",
          "text": [
            "5    40000\n",
            "4    40000\n",
            "3    40000\n",
            "2    40000\n",
            "1    40000\n",
            "Name: stars, dtype: int64\n",
            "[1, 2, 3, 4, 5]\n"
          ],
          "name": "stdout"
        }
      ]
    },
    {
      "cell_type": "markdown",
      "metadata": {
        "id": "Kll1S3tvrubA"
      },
      "source": [
        "## huggingface objects"
      ]
    },
    {
      "cell_type": "code",
      "metadata": {
        "colab": {
          "base_uri": "https://localhost:8080/"
        },
        "id": "4071NSjMjZP_",
        "outputId": "2ca737dc-f323-4231-de12-3bbad0958526"
      },
      "source": [
        "model_name = \"facebook/mbart-large-50\"\n",
        "model_cls = AutoModelForSequenceClassification\n",
        "hf_tok_kwargs = {'src_lang': 'de_DE', 'tgt_lang': 'de_DE'}\n",
        "\n",
        "hf_arch, hf_config, hf_tokenizer, hf_model = BLURR.get_hf_objects(model_name,  \n",
        "                                                                  model_cls=model_cls,  \n",
        "                                                                  tokenizer_kwargs=hf_tok_kwargs, \n",
        "                                                                  config_kwargs={'num_labels': len(labels)})\n",
        "\n",
        "print('arch: ', type(hf_arch))\n",
        "print('config: ', type(hf_config))\n",
        "print('tokenizer: ', type(hf_tokenizer))\n",
        "print('model: ', type(hf_model))"
      ],
      "execution_count": 10,
      "outputs": [
        {
          "output_type": "stream",
          "text": [
            "arch:  <class 'str'>\n",
            "config:  <class 'transformers.models.mbart.configuration_mbart.MBartConfig'>\n",
            "tokenizer:  <class 'transformers.models.mbart.tokenization_mbart50_fast.MBart50TokenizerFast'>\n",
            "model:  <class 'transformers.models.mbart.modeling_mbart.MBartForSequenceClassification'>\n"
          ],
          "name": "stdout"
        }
      ]
    },
    {
      "cell_type": "markdown",
      "metadata": {
        "id": "LS5FIbwQPOqw"
      },
      "source": [
        "> Important: Always good to look into the config as you'll often find good defaults to use in your training and inference!"
      ]
    },
    {
      "cell_type": "code",
      "metadata": {
        "colab": {
          "base_uri": "https://localhost:8080/"
        },
        "id": "2maoKAQ-vpRn",
        "outputId": "6a2d539f-32cf-434c-e8e6-4cbaf9a1dd34"
      },
      "source": [
        "hf_config"
      ],
      "execution_count": 11,
      "outputs": [
        {
          "output_type": "execute_result",
          "data": {
            "text/plain": [
              "MBartConfig {\n",
              "  \"_name_or_path\": \"facebook/mbart-large-50\",\n",
              "  \"_num_labels\": 3,\n",
              "  \"activation_dropout\": 0.0,\n",
              "  \"activation_function\": \"gelu\",\n",
              "  \"add_bias_logits\": false,\n",
              "  \"add_final_layer_norm\": true,\n",
              "  \"architectures\": [\n",
              "    \"MBartForConditionalGeneration\"\n",
              "  ],\n",
              "  \"attention_dropout\": 0.0,\n",
              "  \"bos_token_id\": 0,\n",
              "  \"classif_dropout\": 0.0,\n",
              "  \"classifier_dropout\": 0.0,\n",
              "  \"d_model\": 1024,\n",
              "  \"decoder_attention_heads\": 16,\n",
              "  \"decoder_ffn_dim\": 4096,\n",
              "  \"decoder_layerdrop\": 0.0,\n",
              "  \"decoder_layers\": 12,\n",
              "  \"decoder_start_token_id\": 2,\n",
              "  \"dropout\": 0.1,\n",
              "  \"early_stopping\": true,\n",
              "  \"encoder_attention_heads\": 16,\n",
              "  \"encoder_ffn_dim\": 4096,\n",
              "  \"encoder_layerdrop\": 0.0,\n",
              "  \"encoder_layers\": 12,\n",
              "  \"eos_token_id\": 2,\n",
              "  \"forced_eos_token_id\": 2,\n",
              "  \"gradient_checkpointing\": false,\n",
              "  \"id2label\": {\n",
              "    \"0\": \"LABEL_0\",\n",
              "    \"1\": \"LABEL_1\",\n",
              "    \"2\": \"LABEL_2\",\n",
              "    \"3\": \"LABEL_3\",\n",
              "    \"4\": \"LABEL_4\"\n",
              "  },\n",
              "  \"init_std\": 0.02,\n",
              "  \"is_encoder_decoder\": true,\n",
              "  \"label2id\": {\n",
              "    \"LABEL_0\": 0,\n",
              "    \"LABEL_1\": 1,\n",
              "    \"LABEL_2\": 2,\n",
              "    \"LABEL_3\": 3,\n",
              "    \"LABEL_4\": 4\n",
              "  },\n",
              "  \"max_length\": 200,\n",
              "  \"max_position_embeddings\": 1024,\n",
              "  \"model_type\": \"mbart\",\n",
              "  \"normalize_before\": true,\n",
              "  \"normalize_embedding\": true,\n",
              "  \"num_beams\": 5,\n",
              "  \"num_hidden_layers\": 12,\n",
              "  \"output_past\": true,\n",
              "  \"pad_token_id\": 1,\n",
              "  \"scale_embedding\": true,\n",
              "  \"static_position_embeddings\": false,\n",
              "  \"tokenizer_class\": \"MBart50Tokenizer\",\n",
              "  \"transformers_version\": \"4.6.1\",\n",
              "  \"use_cache\": true,\n",
              "  \"vocab_size\": 250054\n",
              "}"
            ]
          },
          "metadata": {
            "tags": []
          },
          "execution_count": 11
        }
      ]
    },
    {
      "cell_type": "markdown",
      "metadata": {
        "id": "nLxABl16rrPy"
      },
      "source": [
        "## DataLoaders"
      ]
    },
    {
      "cell_type": "code",
      "metadata": {
        "id": "vsdRD6fbmv1D"
      },
      "source": [
        "# 3 lines!  Nice!!!\n",
        "blocks = (HF_TextBlock(hf_arch, hf_config, hf_tokenizer, hf_model, max_length=256), CategoryBlock)\n",
        "dblock = DataBlock(blocks=blocks, get_x=ColReader('review_body'), get_y=ColReader('stars'), splitter=ColSplitter())\n",
        "\n",
        "dls = dblock.dataloaders(df, bs=4)"
      ],
      "execution_count": 12,
      "outputs": []
    },
    {
      "cell_type": "markdown",
      "metadata": {
        "id": "yTZ5kGHZPb6A"
      },
      "source": [
        "> Important: It's almost always useful to look at the `shape` of things in your batches (esp. when debugging)\n",
        "\n",
        "For example, when running on a colab GPU I kept getting CUDA OOM even with a batch size of just 4.  So I looked at the input_ids and saw that they were over 1,000 tokens long in some batches.  So I adjusted the `max_length` above to ensure they weren't longer that 128 characters and voila, you have the tutorial before you now.\n",
        "\n",
        "Of course, you should run this with the biggest batch size and sequence size your GPU(s) will support."
      ]
    },
    {
      "cell_type": "code",
      "metadata": {
        "colab": {
          "base_uri": "https://localhost:8080/"
        },
        "id": "HseWbia7wAN7",
        "outputId": "5df89713-d503-4861-a6ee-4400ca1f9f3c"
      },
      "source": [
        "xb, yb = dls.one_batch()\n",
        "xb['input_ids'].shape"
      ],
      "execution_count": 13,
      "outputs": [
        {
          "output_type": "execute_result",
          "data": {
            "text/plain": [
              "torch.Size([4, 256])"
            ]
          },
          "metadata": {
            "tags": []
          },
          "execution_count": 13
        }
      ]
    },
    {
      "cell_type": "code",
      "metadata": {
        "colab": {
          "base_uri": "https://localhost:8080/",
          "height": 230
        },
        "id": "xUVtdVzwqq2P",
        "outputId": "4615c16d-4293-4ae4-fca5-059dd265abc2"
      },
      "source": [
        "# what does human friendly data look like?\n",
        "dls.show_batch(dataloaders=dls, max_n=2, trunc_at=1500)"
      ],
      "execution_count": 14,
      "outputs": [
        {
          "output_type": "display_data",
          "data": {
            "text/html": [
              "<table border=\"1\" class=\"dataframe\">\n",
              "  <thead>\n",
              "    <tr style=\"text-align: right;\">\n",
              "      <th></th>\n",
              "      <th>text</th>\n",
              "      <th>category</th>\n",
              "    </tr>\n",
              "  </thead>\n",
              "  <tbody>\n",
              "    <tr>\n",
              "      <th>0</th>\n",
              "      <td>So eine Dümmliche Rückantwort wirft Zweifel am Erzeuger dieser Rückmeldung auf.nana nana So eine Dümmliche Rückantwort wirft Zweifel am Erzeuger dieser Rückmeldung auf.nana nana So eine Dümmliche Rückantwort wirft Zweifel am Erzeuger dieser Rückmeldung auf.nana nana So eine Dümmliche Rückantwort wirft Zweifel am Erzeuger dieser Rückmeldung auf.nana nana So eine Dümmliche Rückantwort wirft Zweifel am Erzeuger dieser Rückmeldung auf.nana nana So eine Dümmliche Rückantwort wirft Zweifel am Erzeuger dieser Rückmeldung auf.nana nana So eine Dümmliche Rückantwort wirft Zweifel am Erzeuger dieser Rückmeldung auf.nana nana So eine Dümmliche Rückantwort wirft Zweifel am Erzeuger dieser Rückmeldung auf.nana nana So eine Dümmliche Rückantwort wirft Zweifel am Erzeuger dieser Rückmeldung auf.nana nana So eine Dümmliche Rückantwort wirft Zweifel am Erzeuger dieser Rückmeldung auf.nana nana So eine Dümmliche Rückantwort wirft Zweifel am Erzeuger dieser Rückmeldung auf.nana nana So</td>\n",
              "      <td>4</td>\n",
              "    </tr>\n",
              "    <tr>\n",
              "      <th>1</th>\n",
              "      <td>Leider gehört das P20 zu den Geräten, bei denen man mit Panzerglas nicht glücklich wird, außer es ist massiv zu klein geschnitten. Ansonsten tritt leider mehr oder weniger der Effekt auf, dass die Kanten des Panzerglas abheben und nicht anhaften, da das Display am Rand eine leichte Krümmung aufweist. Das dies aber so massiv ausfällt, hatte ich nicht erwartet - zumal die Produktfotos (offensichtlich überarbeitet) eine vollflächige Anhaftung und gleichmäßige Optik suggerieren. Mir ist es eindeutig zu viel, zumal sich unter dem abhebenden Rand bereits dreck sammelt und die die Touchbedienung am Rand des Displays bereits einschränkt. Ich habe das Glas wieder runter gemacht und bin derzeit bei dem Glas von Spigen, dass das Problem jedoch zumindest an den seitlichen Rändern ebenfalls - wenn auch nicht so massiv - aufweist. Alles in allem kann ich nur von dem Kauf abraten, wenn man mit der Problematik nicht leben kann, in diesem Fall führt wohl kein Weg an einer TPU oder PET Folie vorbei... Darüber hinaus ein Problem, dass ich bereits in der Vergangenheit bei einigen billigen China-</td>\n",
              "      <td>1</td>\n",
              "    </tr>\n",
              "  </tbody>\n",
              "</table>"
            ],
            "text/plain": [
              "<IPython.core.display.HTML object>"
            ]
          },
          "metadata": {
            "tags": []
          }
        }
      ]
    },
    {
      "cell_type": "markdown",
      "metadata": {
        "id": "KGLGn1oHrnuc"
      },
      "source": [
        "## Training"
      ]
    },
    {
      "cell_type": "markdown",
      "metadata": {
        "id": "JJKJRP52EVRx"
      },
      "source": [
        "Print out the model so we can build a custom set of parameter groups for an MBart + Sequence Classification task"
      ]
    },
    {
      "cell_type": "code",
      "metadata": {
        "id": "YLtCRHa-B9e7"
      },
      "source": [
        "# hf_model"
      ],
      "execution_count": 15,
      "outputs": []
    },
    {
      "cell_type": "code",
      "metadata": {
        "id": "4k0_yNOqCuyx"
      },
      "source": [
        "def mbart_splitter(m):\n",
        "  model = m.hf_model if (hasattr(m, 'hf_model')) else m\n",
        "  \n",
        "  embeds_modules = [\n",
        "    model.model.encoder.embed_positions, \n",
        "    model.model.encoder.embed_tokens,\n",
        "    model.model.decoder.embed_positions, \n",
        "    model.model.decoder.embed_tokens\n",
        "  ]\n",
        " \n",
        "  embeds = nn.Sequential(*embeds_modules)\n",
        "  groups = L(embeds, model.model.encoder, model.model.decoder, model.classification_head)\n",
        "  return groups.map(params).filter(lambda el: len(el) > 0)"
      ],
      "execution_count": 16,
      "outputs": []
    },
    {
      "cell_type": "markdown",
      "metadata": {
        "id": "4-5fEynuEmUZ"
      },
      "source": [
        "Configure our metrics and callbacks required by `blurr`"
      ]
    },
    {
      "cell_type": "code",
      "metadata": {
        "id": "TG1dCESHubkS"
      },
      "source": [
        "# define our metrics (see the sklearn docs for more info)\n",
        "precision = Precision(average='macro')\n",
        "recall = Recall(average='macro')\n",
        "f1 = F1Score(average='macro')\n",
        "\n",
        "learn_metrics = [accuracy, precision, recall, f1]\n",
        "learn_cbs = [HF_BaseModelCallback]"
      ],
      "execution_count": 17,
      "outputs": []
    },
    {
      "cell_type": "markdown",
      "metadata": {
        "id": "ZgGLQ8-oErmx"
      },
      "source": [
        "Configure our `Learner` and train away ..."
      ]
    },
    {
      "cell_type": "code",
      "metadata": {
        "colab": {
          "base_uri": "https://localhost:8080/"
        },
        "id": "fGfs_0KKqhg3",
        "outputId": "b96c852e-5693-4392-c39e-b1586edb7712"
      },
      "source": [
        "# configure our Learner; 3 lines!\n",
        "model = HF_BaseModelWrapper(hf_model)\n",
        "learn = Learner(dls, model, opt_func=Adam, loss_func=CrossEntropyLossFlat(), metrics=learn_metrics, cbs=learn_cbs, splitter=mbart_splitter)\n",
        "learn.freeze()\n",
        "\n",
        "print(len(learn.opt.param_groups))"
      ],
      "execution_count": 18,
      "outputs": [
        {
          "output_type": "stream",
          "text": [
            "4\n"
          ],
          "name": "stdout"
        }
      ]
    },
    {
      "cell_type": "code",
      "metadata": {
        "colab": {
          "base_uri": "https://localhost:8080/",
          "height": 300
        },
        "id": "r12Oy4x3q257",
        "outputId": "5d1eae8e-1d11-4ec0-855b-5723d922e19a"
      },
      "source": [
        "learn.lr_find(suggestions=True)"
      ],
      "execution_count": 19,
      "outputs": [
        {
          "output_type": "display_data",
          "data": {
            "text/html": [
              ""
            ],
            "text/plain": [
              "<IPython.core.display.HTML object>"
            ]
          },
          "metadata": {
            "tags": []
          }
        },
        {
          "output_type": "execute_result",
          "data": {
            "text/plain": [
              "SuggestedLRs(lr_min=7.585775892948732e-06, lr_steep=0.013182567432522774)"
            ]
          },
          "metadata": {
            "tags": []
          },
          "execution_count": 19
        },
        {
          "output_type": "display_data",
          "data": {
            "image/png": "[encoded data removed]",
            "text/plain": [
              "<Figure size 432x288 with 1 Axes>"
            ]
          },
          "metadata": {
            "tags": [],
            "needs_background": "light"
          }
        }
      ]
    },
    {
      "cell_type": "code",
      "metadata": {
        "colab": {
          "base_uri": "https://localhost:8080/",
          "height": 95
        },
        "id": "796-PYyWq22Q",
        "outputId": "c6115040-bde7-48a7-8130-8f9bd89a6c2d"
      },
      "source": [
        "learn.fit_one_cycle(1, lr_max=7e-5)"
      ],
      "execution_count": null,
      "outputs": [
        {
          "output_type": "display_data",
          "data": {
            "text/html": [
              "\n",
              "    <div>\n",
              "        <style>\n",
              "            /* Turns off some styling */\n",
              "            progress {\n",
              "                /* gets rid of default border in Firefox and Opera. */\n",
              "                border: none;\n",
              "                /* Needs to be in here for Safari polyfill so background images work as expected. */\n",
              "                background-size: auto;\n",
              "            }\n",
              "            .progress-bar-interrupted, .progress-bar-interrupted::-webkit-progress-bar {\n",
              "                background: #F44336;\n",
              "            }\n",
              "        </style>\n",
              "      <progress value='0' class='' max='1' style='width:300px; height:20px; vertical-align: middle;'></progress>\n",
              "      0.00% [0/1 00:00<00:00]\n",
              "    </div>\n",
              "    \n",
              "<table border=\"1\" class=\"dataframe\">\n",
              "  <thead>\n",
              "    <tr style=\"text-align: left;\">\n",
              "      <th>epoch</th>\n",
              "      <th>train_loss</th>\n",
              "      <th>valid_loss</th>\n",
              "      <th>accuracy</th>\n",
              "      <th>precision_score</th>\n",
              "      <th>recall_score</th>\n",
              "      <th>f1_score</th>\n",
              "      <th>time</th>\n",
              "    </tr>\n",
              "  </thead>\n",
              "  <tbody>\n",
              "  </tbody>\n",
              "</table><p>\n",
              "\n",
              "    <div>\n",
              "        <style>\n",
              "            /* Turns off some styling */\n",
              "            progress {\n",
              "                /* gets rid of default border in Firefox and Opera. */\n",
              "                border: none;\n",
              "                /* Needs to be in here for Safari polyfill so background images work as expected. */\n",
              "                background-size: auto;\n",
              "            }\n",
              "            .progress-bar-interrupted, .progress-bar-interrupted::-webkit-progress-bar {\n",
              "                background: #F44336;\n",
              "            }\n",
              "        </style>\n",
              "      <progress value='46182' class='' max='50000' style='width:300px; height:20px; vertical-align: middle;'></progress>\n",
              "      92.36% [46182/50000 1:41:30<08:23 0.9709]\n",
              "    </div>\n",
              "    "
            ],
            "text/plain": [
              "<IPython.core.display.HTML object>"
            ]
          },
          "metadata": {
            "tags": []
          }
        }
      ]
    },
    {
      "cell_type": "code",
      "metadata": {
        "id": "vQhBurJSq2tz"
      },
      "source": [
        "learn.show_results(learner=learn, max_n=2, trunc_at=1500)"
      ],
      "execution_count": null,
      "outputs": []
    },
    {
      "cell_type": "markdown",
      "metadata": {
        "id": "1EirUL2BE65J"
      },
      "source": [
        "We'll freeze all the layers with the exception of the decoder and classification_head layers (the last 2)"
      ]
    },
    {
      "cell_type": "code",
      "metadata": {
        "id": "PnDDKM11rEtN"
      },
      "source": [
        "learn.freeze_to(-2)"
      ],
      "execution_count": null,
      "outputs": []
    },
    {
      "cell_type": "code",
      "metadata": {
        "id": "Lw2zqlfcY-68"
      },
      "source": [
        "learn.lr_find(suggestions=True)"
      ],
      "execution_count": null,
      "outputs": []
    },
    {
      "cell_type": "code",
      "metadata": {
        "id": "GBSLL-pYrEqD"
      },
      "source": [
        "learn.fit_one_cycle(3, lr_max=slice(2e-8, 2e-7))"
      ],
      "execution_count": null,
      "outputs": []
    },
    {
      "cell_type": "code",
      "metadata": {
        "id": "cAGVdpgbrEnb"
      },
      "source": [
        "learn.recorder.plot_loss()"
      ],
      "execution_count": null,
      "outputs": []
    },
    {
      "cell_type": "code",
      "metadata": {
        "id": "KL1yXf_mrEf4"
      },
      "source": [
        "learn.show_results(learner=learn, max_n=2, trunc_at=1500)"
      ],
      "execution_count": null,
      "outputs": []
    },
    {
      "cell_type": "markdown",
      "metadata": {
        "id": "qvDXWwcG8oYg"
      },
      "source": [
        "## Inference"
      ]
    },
    {
      "cell_type": "code",
      "metadata": {
        "id": "h8cxgf2ErO0o"
      },
      "source": [
        "txt = tst_df.review_body[0]\n",
        "print(txt)\n",
        "learn.blurr_predict(txt)"
      ],
      "execution_count": null,
      "outputs": []
    },
    {
      "cell_type": "code",
      "metadata": {
        "id": "sbICatS5rP9F"
      },
      "source": [
        "txts = list(tst_df.review_body.values[1:10])\n",
        "print(txts)\n",
        "learn.blurr_predict(txts)"
      ],
      "execution_count": null,
      "outputs": []
    },
    {
      "cell_type": "markdown",
      "metadata": {
        "id": "mrvjOU6Awv_w"
      },
      "source": [
        "Well that's it!  \n",
        "\n",
        "I hope this article helps your fastai, huggingface, blurr out, and hey, if I'm doing something wrong above please let me know!  I'm far from perfect :)\n",
        "\n",
        "For more information on the MBart/MBar-50 architecture, see the huggingface docs [here](https://huggingface.co/transformers/model_doc/mbart.html)."
      ]
    }
  ]
}